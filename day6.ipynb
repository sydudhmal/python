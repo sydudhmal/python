{
 "cells": [
  {
   "cell_type": "markdown",
   "metadata": {},
   "source": [
    "#  DAY 6 ASSIGNMENTS\n",
    " \n",
    " \n",
    "  ASSIGNMENT-----> list1 = [1,2,3,4,5,7,8] list2 = [\"a\", \"b\", \"c\", \"d\", \"e\"]   \n",
    "  convert to a dictionary in one line code using list comprehension(without using zip method)"
   ]
  },
  {
   "cell_type": "code",
   "execution_count": 14,
   "metadata": {},
   "outputs": [
    {
     "name": "stdout",
     "output_type": "stream",
     "text": [
      " Original list1 is: [1, 2, 3, 4, 5, 7, 8]\n"
     ]
    }
   ],
   "source": [
    "list1 = [1,2,3,4,5,7,8] \n",
    "list2 = [\"a\", \"b\", \"c\", \"d\", \"e\"]\n",
    "print(\" Original list1 is:\",list1)"
   ]
  },
  {
   "cell_type": "code",
   "execution_count": 7,
   "metadata": {},
   "outputs": [
    {
     "name": "stdout",
     "output_type": "stream",
     "text": [
      " Original list2 is:['a', 'b', 'c', 'd', 'e']\n"
     ]
    }
   ],
   "source": [
    "print(\" Original list2 is:\", list2)"
   ]
  },
  {
   "cell_type": "code",
   "execution_count": 24,
   "metadata": {},
   "outputs": [],
   "source": [
    "a= { i : list2  for i in list1 }"
   ]
  },
  {
   "cell_type": "code",
   "execution_count": 28,
   "metadata": {},
   "outputs": [
    {
     "name": "stdout",
     "output_type": "stream",
     "text": [
      "The outut: \n",
      " {1: ['a', 'b', 'c', 'd', 'e'], 2: ['a', 'b', 'c', 'd', 'e'], 3: ['a', 'b', 'c', 'd', 'e'], 4: ['a', 'b', 'c', 'd', 'e'], 5: ['a', 'b', 'c', 'd', 'e'], 7: ['a', 'b', 'c', 'd', 'e'], 8: ['a', 'b', 'c', 'd', 'e']}\n"
     ]
    }
   ],
   "source": [
    "print(\"The outut: \\n\", a)"
   ]
  },
  {
   "cell_type": "code",
   "execution_count": null,
   "metadata": {},
   "outputs": [],
   "source": []
  }
 ],
 "metadata": {
  "kernelspec": {
   "display_name": "Python 3",
   "language": "python",
   "name": "python3"
  },
  "language_info": {
   "codemirror_mode": {
    "name": "ipython",
    "version": 3
   },
   "file_extension": ".py",
   "mimetype": "text/x-python",
   "name": "python",
   "nbconvert_exporter": "python",
   "pygments_lexer": "ipython3",
   "version": "3.7.6"
  }
 },
 "nbformat": 4,
 "nbformat_minor": 4
}
