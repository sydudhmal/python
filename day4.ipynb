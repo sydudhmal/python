{
 "cells": [
  {
   "cell_type": "markdown",
   "metadata": {},
   "source": [
    "# DAY 4\n",
    "ASSIGNMENT NO 1----> TAKE A STRING AND FIND ALL AND ALSO PRINT THE INDEX VALUE OF THAT PARTICULAR WORD"
   ]
  },
  {
   "cell_type": "code",
   "execution_count": 40,
   "metadata": {},
   "outputs": [
    {
     "name": "stdout",
     "output_type": "stream",
     "text": [
      "The original string is:HI MY NAME IS ROHINI\n",
      "find position of word NAME:  6\n",
      "the index of word name is: 6\n",
      "the list of words in given string is:H,I, ,M,Y, ,N,A,M,E, ,I,S, ,R,O,H,I,N,I\n"
     ]
    }
   ],
   "source": [
    "str1 = \"HI MY NAME IS ROHINI\"\n",
    "print(\"The original string is:\" +str1)\n",
    "print(\"find position of word NAME: \",str1.find(\"NAME\"))\n",
    "print(\"the index of word name is:\", str1.index(\"NAME\"))\n",
    "str1.count(\"NAME\", 0, 15)\n",
    "print(\"the list of words in given string is:\"  +\",\".join(str1))\n"
   ]
  },
  {
   "cell_type": "markdown",
   "metadata": {},
   "source": [
    "ASSIGNMENT NO.2 --->   USE ISLOWER() AND ISUPPER() WITH A STRING"
   ]
  },
  {
   "cell_type": "code",
   "execution_count": 41,
   "metadata": {},
   "outputs": [
    {
     "name": "stdout",
     "output_type": "stream",
     "text": [
      "hi, we are learning python\n"
     ]
    }
   ],
   "source": [
    "str2 = \"hi, we are learning python\"\n",
    "print(str2)"
   ]
  },
  {
   "cell_type": "code",
   "execution_count": 42,
   "metadata": {},
   "outputs": [
    {
     "name": "stdout",
     "output_type": "stream",
     "text": [
      "the upper case of string is: False\n"
     ]
    }
   ],
   "source": [
    "print(\"the upper case of string is:\", str2.isupper())"
   ]
  },
  {
   "cell_type": "code",
   "execution_count": 43,
   "metadata": {},
   "outputs": [
    {
     "name": "stdout",
     "output_type": "stream",
     "text": [
      "the upper case of string is: True\n"
     ]
    }
   ],
   "source": [
    "print(\"the upper case of string is:\", str2.islower())"
   ]
  },
  {
   "cell_type": "code",
   "execution_count": null,
   "metadata": {},
   "outputs": [],
   "source": []
  }
 ],
 "metadata": {
  "kernelspec": {
   "display_name": "Python 3",
   "language": "python",
   "name": "python3"
  },
  "language_info": {
   "codemirror_mode": {
    "name": "ipython",
    "version": 3
   },
   "file_extension": ".py",
   "mimetype": "text/x-python",
   "name": "python",
   "nbconvert_exporter": "python",
   "pygments_lexer": "ipython3",
   "version": "3.7.6"
  }
 },
 "nbformat": 4,
 "nbformat_minor": 4
}
