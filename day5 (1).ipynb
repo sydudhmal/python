{
 "cells": [
  {
   "cell_type": "markdown",
   "metadata": {},
   "source": [
    "# DAY 5 ASSIGNMENTS \n"
   ]
  },
  {
   "cell_type": "markdown",
   "metadata": {},
   "source": [
    "ASSIGNMENT1----> LIST =[0,1,2,4,1,0,56,2,0,1,3,0,56,0,4]  \n",
    "SORT INCREASING ORDER BUT ALL ZEROS SHOULD BE AT RIGHT HAND SIDE\n"
   ]
  },
  {
   "cell_type": "code",
   "execution_count": 132,
   "metadata": {},
   "outputs": [
    {
     "name": "stdout",
     "output_type": "stream",
     "text": [
      "sorted list: [0, 0, 0, 0, 0, 1, 1, 1, 2, 2, 3, 4, 4, 10, 56, 56]\n",
      "the new sorted list: [1, 1, 1, 2, 2, 3, 4, 4, 10, 56, 56, 0, 0, 0, 0, 0]\n"
     ]
    }
   ],
   "source": [
    "list1 = [0,1,2,10,4,1,0,56,2,0,1,3,0,56,0,4]\n",
    "list1.sort()\n",
    "print(\"sorted list:\", list1)\n",
    "for a in  range(0,5):\n",
    "    list1.remove(0)\n",
    "\n",
    "list1.extend([0,0,0,0,0])\n",
    "for i in range(0, 0):\n",
    "    list1.append(i)\n",
    "print(\"the new sorted list:\", list1)\n"
   ]
  },
  {
   "cell_type": "markdown",
   "metadata": {},
   "source": [
    "ASSIGNMENT2---->LIST1 = [10,20,40,60,70,80]\n",
    "                LIST2 = [5,15,25,35,45,55,60]\n",
    "                MERGE THESE TWO SORTED LIST PRODUCE ONE SORTED LIST, BUT USE ONLY ONE LOOP WHILE OR FOR"
   ]
  },
  {
   "cell_type": "code",
   "execution_count": 1,
   "metadata": {},
   "outputs": [
    {
     "name": "stdout",
     "output_type": "stream",
     "text": [
      "the first list is: [10, 20, 40, 60, 70, 80]\n",
      "the second list is: [5, 15, 25, 35, 45, 55, 60]\n",
      "the new sorted list: [5, 10, 15, 20, 25, 35, 40, 45, 55, 60, 60, 70, 80]\n"
     ]
    }
   ],
   "source": [
    "list1 = [10,20,40,60,70,80]\n",
    "list2 = [5,15,25,35,45,55,60]\n",
    "print(\"the first list is:\",list1)\n",
    "print(\"the second list is:\",list2)\n",
    "a = len(list1)\n",
    "b = len(list2)\n",
    "\n",
    "list3 = []\n",
    "i,j = 0, 0\n",
    "while  i < a  and j < b:\n",
    "    if list1[i] < list2[j]:\n",
    "        list3.append(list1[i])\n",
    "        i += 1\n",
    "    else:\n",
    "        list3.append(list2[j])\n",
    "        j += 1\n",
    "list3 =  list3 + list1[i:] + list2[j:]\n",
    "        \n",
    "print(\"the new sorted list:\", list3)       \n",
    "\n"
   ]
  },
  {
   "cell_type": "code",
   "execution_count": null,
   "metadata": {},
   "outputs": [],
   "source": []
  },
  {
   "cell_type": "code",
   "execution_count": null,
   "metadata": {},
   "outputs": [],
   "source": []
  }
 ],
 "metadata": {
  "kernelspec": {
   "display_name": "Python 3",
   "language": "python",
   "name": "python3"
  },
  "language_info": {
   "codemirror_mode": {
    "name": "ipython",
    "version": 3
   },
   "file_extension": ".py",
   "mimetype": "text/x-python",
   "name": "python",
   "nbconvert_exporter": "python",
   "pygments_lexer": "ipython3",
   "version": "3.7.6"
  }
 },
 "nbformat": 4,
 "nbformat_minor": 4
}
