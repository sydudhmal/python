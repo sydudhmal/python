{
 "cells": [
  {
   "cell_type": "markdown",
   "metadata": {},
   "source": [
    "#  DAY 7\n",
    "ASSIGNMENT NO 1---->\n",
    "    USE THE DICTIONARY,\n",
    "    port1 = {21:\"FTP\", 22:\"FTP\", 23:\"telnet\", 80:\"http\"} and make a new dictionary in wwhich keys become values and values become keys, as shown:\n",
    "    port1 = {\"FTP\":21,\"FTP\":22, \"telnet\":23, \"http\":80}\n",
    "                        "
   ]
  },
  {
   "cell_type": "code",
   "execution_count": 14,
   "metadata": {},
   "outputs": [
    {
     "name": "stdout",
     "output_type": "stream",
     "text": [
      " Original port is:\n",
      "{21: 'FTP', 22: 'FTP', 23: 'telnet', 80: 'http'}\n"
     ]
    }
   ],
   "source": [
    "port1 = {21:\"FTP\", 22:\"FTP\", 23:\"telnet\", 80:\"http\"}\n",
    "print(\" Original port is:\")\n",
    "print(port1)"
   ]
  },
  {
   "cell_type": "code",
   "execution_count": 19,
   "metadata": {},
   "outputs": [],
   "source": [
    "port2 = dict([(value, key) for key, value in port1.items()])"
   ]
  },
  {
   "cell_type": "code",
   "execution_count": 24,
   "metadata": {},
   "outputs": [
    {
     "name": "stdout",
     "output_type": "stream",
     "text": [
      "FTP  ,  22\n",
      "telnet  ,  23\n",
      "http  ,  80\n"
     ]
    }
   ],
   "source": [
    "for i in port2:\n",
    "    print(i, \" , \", port2[i])"
   ]
  },
  {
   "cell_type": "markdown",
   "metadata": {},
   "source": [
    "ASSIGNMENT NO 2---> TAKE A LIST OF TUPLE AS SHOWN BELOW\n",
    "[(1,2),(3,4),(5,6),(4,5)]. MAKE A NEW LIST WHICH CONTAINS THE SUM OF THE NUMBERS OF TUPLES.\n",
    "INPUT\n",
    "[(1,2),(3,4),(5,6)]\n",
    "OUTPUT\n",
    "[3,7,11]"
   ]
  },
  {
   "cell_type": "code",
   "execution_count": 112,
   "metadata": {},
   "outputs": [
    {
     "name": "stdout",
     "output_type": "stream",
     "text": [
      "[(1, 2), (3, 4), (5, 6), (4, 5)]\n"
     ]
    }
   ],
   "source": [
    "tup1 = [(1,2),(3,4),(5,6),(4,5)]\n",
    "print(tup1)"
   ]
  },
  {
   "cell_type": "code",
   "execution_count": 113,
   "metadata": {},
   "outputs": [],
   "source": [
    "a = [i+j for (i,j) in tup1]"
   ]
  },
  {
   "cell_type": "code",
   "execution_count": 115,
   "metadata": {},
   "outputs": [
    {
     "name": "stdout",
     "output_type": "stream",
     "text": [
      "the addtion is:\n",
      "[3, 7, 11, 9]\n"
     ]
    }
   ],
   "source": [
    "print(\"the addtion is:\")\n",
    "print(a)"
   ]
  },
  {
   "cell_type": "markdown",
   "metadata": {},
   "source": [
    "ASSIGNMENT 3-------->\n",
    "TAKE A LIST [(1,2,3),[1,2],['a','hit','less']]\n",
    "the list contains tuple and list. makes the elements of inner lists and tuples to outer list "
   ]
  },
  {
   "cell_type": "code",
   "execution_count": 200,
   "metadata": {},
   "outputs": [
    {
     "name": "stdout",
     "output_type": "stream",
     "text": [
      "[(1, 2, 3), [1, 2], ['a', 'hit', 'less']]\n"
     ]
    }
   ],
   "source": [
    "a =  [(1,2,3),[1,2],['a','hit','less']] \n",
    "\n",
    "print(a)"
   ]
  },
  {
   "cell_type": "code",
   "execution_count": 202,
   "metadata": {},
   "outputs": [],
   "source": [
    "b = (tuple[ele] for ele in list1)"
   ]
  },
  {
   "cell_type": "code",
   "execution_count": null,
   "metadata": {},
   "outputs": [],
   "source": []
  },
  {
   "cell_type": "code",
   "execution_count": null,
   "metadata": {},
   "outputs": [],
   "source": []
  },
  {
   "cell_type": "code",
   "execution_count": 203,
   "metadata": {},
   "outputs": [
    {
     "data": {
      "text/plain": [
       "<generator object <genexpr> at 0x0000029092BC64C8>"
      ]
     },
     "execution_count": 203,
     "metadata": {},
     "output_type": "execute_result"
    }
   ],
   "source": [
    "b"
   ]
  },
  {
   "cell_type": "code",
   "execution_count": null,
   "metadata": {},
   "outputs": [],
   "source": []
  }
 ],
 "metadata": {
  "kernelspec": {
   "display_name": "Python 3",
   "language": "python",
   "name": "python3"
  },
  "language_info": {
   "codemirror_mode": {
    "name": "ipython",
    "version": 3
   },
   "file_extension": ".py",
   "mimetype": "text/x-python",
   "name": "python",
   "nbconvert_exporter": "python",
   "pygments_lexer": "ipython3",
   "version": "3.7.6"
  }
 },
 "nbformat": 4,
 "nbformat_minor": 4
}
